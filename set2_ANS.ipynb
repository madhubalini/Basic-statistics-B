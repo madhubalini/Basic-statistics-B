{
 "cells": [
  {
   "cell_type": "code",
   "execution_count": 2,
   "metadata": {
    "ExecuteTime": {
     "end_time": "2021-02-09T12:18:54.520672Z",
     "start_time": "2021-02-09T12:18:44.899769Z"
    }
   },
   "outputs": [],
   "source": [
    "import pandas as pd\n",
    "import numpy as np\n",
    "import matplotlib.pyplot as plt\n",
    "import seaborn as sns\n",
    "from scipy.stats import norm"
   ]
  },
  {
   "cell_type": "markdown",
   "metadata": {},
   "source": [
    "# Q1"
   ]
  },
  {
   "cell_type": "code",
   "execution_count": 3,
   "metadata": {
    "ExecuteTime": {
     "end_time": "2021-02-09T12:19:38.083760Z",
     "start_time": "2021-02-09T12:19:38.009344Z"
    }
   },
   "outputs": [
    {
     "name": "stdout",
     "output_type": "stream",
     "text": [
      "P(carservice done in 1 hour)  0.7340144709512995\n"
     ]
    }
   ],
   "source": [
    "X= norm.cdf(50,45,8)\n",
    "print('P(carservice done in 1 hour) ',X)"
   ]
  },
  {
   "cell_type": "code",
   "execution_count": 4,
   "metadata": {
    "ExecuteTime": {
     "end_time": "2021-02-09T12:19:39.434050Z",
     "start_time": "2021-02-09T12:19:39.428050Z"
    }
   },
   "outputs": [
    {
     "name": "stdout",
     "output_type": "stream",
     "text": [
      "P(carservice cannot be done in 1 hour) 0.26598552904870054\n"
     ]
    }
   ],
   "source": [
    "Y= 1-X\n",
    "print('P(carservice cannot be done in 1 hour)',Y)"
   ]
  },
  {
   "cell_type": "raw",
   "metadata": {},
   "source": [
    "ANS - B"
   ]
  },
  {
   "cell_type": "markdown",
   "metadata": {},
   "source": [
    "# Q2"
   ]
  },
  {
   "cell_type": "code",
   "execution_count": 5,
   "metadata": {
    "ExecuteTime": {
     "end_time": "2021-02-09T12:22:25.739508Z",
     "start_time": "2021-02-09T12:22:25.732511Z"
    }
   },
   "outputs": [
    {
     "name": "stdout",
     "output_type": "stream",
     "text": [
      "0.8413447460685429\n",
      "age>44 is  0.15865525393145707\n",
      "0.09121121972586788\n"
     ]
    }
   ],
   "source": [
    "a = norm.cdf(44,38,6)\n",
    "print(a)\n",
    "print('age>44 is ',1-a)\n",
    "b = norm.cdf(30,38,6)\n",
    "print(b)"
   ]
  },
  {
   "cell_type": "code",
   "execution_count": 6,
   "metadata": {
    "ExecuteTime": {
     "end_time": "2021-02-09T12:23:02.825512Z",
     "start_time": "2021-02-09T12:23:02.820526Z"
    }
   },
   "outputs": [
    {
     "name": "stdout",
     "output_type": "stream",
     "text": [
      "For Population Size 400 Employees Under age 30 is  36.484487890347154\n"
     ]
    }
   ],
   "source": [
    "print('For Population Size 400 Employees Under age 30 is ', 400*b)"
   ]
  },
  {
   "cell_type": "raw",
   "metadata": {},
   "source": [
    "A. False ,there is only 0.15% older than 44 while 38-44 range age people have a 84%.\n",
    "\n",
    "B.True. "
   ]
  },
  {
   "cell_type": "markdown",
   "metadata": {},
   "source": [
    "# Q3"
   ]
  },
  {
   "cell_type": "raw",
   "metadata": {},
   "source": [
    "Iidnormal random variables have same distribution and are independent of each others. If X1 + · · · + Xn has a normal distribution, specifically N(nµ, nσ2). so the mean and variance multiplies to two in case of X1+X2."
   ]
  },
  {
   "cell_type": "markdown",
   "metadata": {},
   "source": [
    "# Q4"
   ]
  },
  {
   "cell_type": "code",
   "execution_count": 7,
   "metadata": {
    "ExecuteTime": {
     "end_time": "2021-02-09T12:34:10.444542Z",
     "start_time": "2021-02-09T12:34:10.347768Z"
    }
   },
   "outputs": [
    {
     "name": "stdout",
     "output_type": "stream",
     "text": [
      "-2.575829303548901 2.5758293035489004\n"
     ]
    }
   ],
   "source": [
    "b_Zscore=norm.ppf(0.995)\n",
    "a_Zscore= norm.ppf(0.005)\n",
    "print(a_Zscore,b_Zscore)\n",
    "std=20\n",
    "mean=100"
   ]
  },
  {
   "cell_type": "code",
   "execution_count": 8,
   "metadata": {
    "ExecuteTime": {
     "end_time": "2021-02-09T12:34:57.910870Z",
     "start_time": "2021-02-09T12:34:57.878930Z"
    }
   },
   "outputs": [
    {
     "name": "stdout",
     "output_type": "stream",
     "text": [
      "a = 48.483413929021985   b =  151.516586070978\n"
     ]
    }
   ],
   "source": [
    "# Calculate X=>(Zscore*std)+mean\n",
    "Xa=(a_Zscore*std)+mean\n",
    "Xb=(b_Zscore*std)+mean\n",
    "print('a =',Xa,'  b = ',Xb)\n",
    "\n",
    "x=(a_Zscore,b_Zscore,0.001)\n",
    "#x_all=np.arange(-10,10,0.001)\n",
    "y=norm.cdf(x,0,1)\n",
    "#y2=norm.pdf(x_all,0,1)"
   ]
  },
  {
   "cell_type": "markdown",
   "metadata": {},
   "source": [
    "# Q5"
   ]
  },
  {
   "cell_type": "raw",
   "metadata": {
    "ExecuteTime": {
     "end_time": "2021-02-09T12:38:48.040297Z",
     "start_time": "2021-02-09T12:38:48.016289Z"
    }
   },
   "source": [
    "Given:\n",
    "Profit1 ~ N(5, 3^2) \n",
    "Profit2 ~ N(7, 4^2) \n",
    "$1 = Rs. 45\n",
    "company profit = x\n",
    "mean(x) = (5+7)*45 = 540.\n",
    "variance(x) = sqrt(9 + 16) * 45 = 225"
   ]
  },
  {
   "cell_type": "code",
   "execution_count": 10,
   "metadata": {
    "ExecuteTime": {
     "end_time": "2021-02-09T13:03:37.630424Z",
     "start_time": "2021-02-09T13:03:37.614490Z"
    }
   },
   "outputs": [
    {
     "data": {
      "text/plain": [
       "540"
      ]
     },
     "execution_count": 10,
     "metadata": {},
     "output_type": "execute_result"
    }
   ],
   "source": [
    "12*45\n"
   ]
  },
  {
   "cell_type": "code",
   "execution_count": 13,
   "metadata": {
    "ExecuteTime": {
     "end_time": "2021-02-09T13:07:43.476428Z",
     "start_time": "2021-02-09T13:07:43.460422Z"
    }
   },
   "outputs": [
    {
     "data": {
      "text/plain": [
       "225"
      ]
     },
     "execution_count": 13,
     "metadata": {},
     "output_type": "execute_result"
    }
   ],
   "source": [
    "5*45"
   ]
  },
  {
   "cell_type": "raw",
   "metadata": {},
   "source": [
    "so , x ~ N(540,225^2) company profit distribution\n"
   ]
  },
  {
   "cell_type": "raw",
   "metadata": {},
   "source": [
    "A.  BY the empirical rule, Approximately 95% of the data falls within two standard deviation of the mean. \n",
    "\n",
    "     (μ ± 2σ) = 540±2*225=> (540-450, 540+450)=> (90,990)\n",
    "B.   that to find 5th percentile \n",
    "μ - 1.5σ  => 540-(1.5*225) =>202.5 "
   ]
  },
  {
   "cell_type": "code",
   "execution_count": 14,
   "metadata": {
    "ExecuteTime": {
     "end_time": "2021-02-09T13:42:00.174728Z",
     "start_time": "2021-02-09T13:42:00.142741Z"
    }
   },
   "outputs": [
    {
     "data": {
      "text/plain": [
       "0.03408830818799267"
      ]
     },
     "execution_count": 14,
     "metadata": {},
     "output_type": "execute_result"
    }
   ],
   "source": [
    "#c\n",
    "#Standard Normnal Distribution for Profit 1\n",
    "stats.norm(5, 3).pdf(0.05)"
   ]
  },
  {
   "cell_type": "code",
   "execution_count": 15,
   "metadata": {
    "ExecuteTime": {
     "end_time": "2021-02-09T13:42:17.858740Z",
     "start_time": "2021-02-09T13:42:17.842751Z"
    }
   },
   "outputs": [
    {
     "data": {
      "text/plain": [
       "0.02204463495650936"
      ]
     },
     "execution_count": 15,
     "metadata": {},
     "output_type": "execute_result"
    }
   ],
   "source": [
    "#Standard Normnal Distribution for Profit 2\n",
    "stats.norm(7, 4).pdf(0.05)"
   ]
  },
  {
   "cell_type": "raw",
   "metadata": {},
   "source": [
    "first one has more loss"
   ]
  },
  {
   "cell_type": "code",
   "execution_count": null,
   "metadata": {},
   "outputs": [],
   "source": []
  }
 ],
 "metadata": {
  "kernelspec": {
   "display_name": "Python 3",
   "language": "python",
   "name": "python3"
  },
  "language_info": {
   "codemirror_mode": {
    "name": "ipython",
    "version": 3
   },
   "file_extension": ".py",
   "mimetype": "text/x-python",
   "name": "python",
   "nbconvert_exporter": "python",
   "pygments_lexer": "ipython3",
   "version": "3.8.3"
  },
  "varInspector": {
   "cols": {
    "lenName": 16,
    "lenType": 16,
    "lenVar": 40
   },
   "kernels_config": {
    "python": {
     "delete_cmd_postfix": "",
     "delete_cmd_prefix": "del ",
     "library": "var_list.py",
     "varRefreshCmd": "print(var_dic_list())"
    },
    "r": {
     "delete_cmd_postfix": ") ",
     "delete_cmd_prefix": "rm(",
     "library": "var_list.r",
     "varRefreshCmd": "cat(var_dic_list()) "
    }
   },
   "types_to_exclude": [
    "module",
    "function",
    "builtin_function_or_method",
    "instance",
    "_Feature"
   ],
   "window_display": false
  }
 },
 "nbformat": 4,
 "nbformat_minor": 4
}
